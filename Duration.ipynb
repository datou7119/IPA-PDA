{
 "cells": [
  {
   "cell_type": "code",
   "execution_count": 1,
   "id": "de4991c5",
   "metadata": {},
   "outputs": [
    {
     "name": "stdout",
     "output_type": "stream",
     "text": [
      "Requirement already satisfied: plotnine in c:\\users\\shen_y\\anaconda3\\lib\\site-packages (0.8.0)\n",
      "Requirement already satisfied: pandas>=1.1.0 in c:\\users\\shen_y\\anaconda3\\lib\\site-packages (from plotnine) (1.4.4)\n",
      "Requirement already satisfied: matplotlib>=3.1.1 in c:\\users\\shen_y\\anaconda3\\lib\\site-packages (from plotnine) (3.5.2)\n",
      "Requirement already satisfied: statsmodels>=0.12.1 in c:\\users\\shen_y\\anaconda3\\lib\\site-packages (from plotnine) (0.12.2)\n",
      "Requirement already satisfied: mizani>=0.7.3 in c:\\users\\shen_y\\anaconda3\\lib\\site-packages (from plotnine) (0.7.4)\n",
      "Requirement already satisfied: numpy>=1.19.0 in c:\\users\\shen_y\\anaconda3\\lib\\site-packages (from plotnine) (1.22.1)\n",
      "Requirement already satisfied: descartes>=1.1.0 in c:\\users\\shen_y\\anaconda3\\lib\\site-packages (from plotnine) (1.1.0)\n",
      "Requirement already satisfied: patsy>=0.5.1 in c:\\users\\shen_y\\anaconda3\\lib\\site-packages (from plotnine) (0.5.2)\n",
      "Requirement already satisfied: scipy>=1.5.0 in c:\\users\\shen_y\\anaconda3\\lib\\site-packages (from plotnine) (1.7.1)\n",
      "Requirement already satisfied: cycler>=0.10 in c:\\users\\shen_y\\anaconda3\\lib\\site-packages (from matplotlib>=3.1.1->plotnine) (0.10.0)\n",
      "Requirement already satisfied: python-dateutil>=2.7 in c:\\users\\shen_y\\anaconda3\\lib\\site-packages (from matplotlib>=3.1.1->plotnine) (2.8.2)\n",
      "Requirement already satisfied: fonttools>=4.22.0 in c:\\users\\shen_y\\anaconda3\\lib\\site-packages (from matplotlib>=3.1.1->plotnine) (4.25.0)\n",
      "Requirement already satisfied: pillow>=6.2.0 in c:\\users\\shen_y\\anaconda3\\lib\\site-packages (from matplotlib>=3.1.1->plotnine) (8.4.0)\n",
      "Requirement already satisfied: pyparsing>=2.2.1 in c:\\users\\shen_y\\anaconda3\\lib\\site-packages (from matplotlib>=3.1.1->plotnine) (3.0.4)\n",
      "Requirement already satisfied: packaging>=20.0 in c:\\users\\shen_y\\anaconda3\\lib\\site-packages (from matplotlib>=3.1.1->plotnine) (21.0)\n",
      "Requirement already satisfied: kiwisolver>=1.0.1 in c:\\users\\shen_y\\anaconda3\\lib\\site-packages (from matplotlib>=3.1.1->plotnine) (1.3.1)\n",
      "Requirement already satisfied: six in c:\\users\\shen_y\\anaconda3\\lib\\site-packages (from cycler>=0.10->matplotlib>=3.1.1->plotnine) (1.16.0)\n",
      "Requirement already satisfied: palettable in c:\\users\\shen_y\\anaconda3\\lib\\site-packages (from mizani>=0.7.3->plotnine) (3.3.0)\n",
      "Requirement already satisfied: pytz>=2020.1 in c:\\users\\shen_y\\anaconda3\\lib\\site-packages (from pandas>=1.1.0->plotnine) (2021.3)\n"
     ]
    }
   ],
   "source": [
    "#importing the useful libraries\n",
    "import sys\n",
    "import scipy\n",
    "import numpy as np\n",
    "import seaborn as sn\n",
    "import pandas as pd\n",
    "pd.options.mode.chained_assignment = None \n",
    "import warnings\n",
    "warnings.simplefilter(action='ignore', category=FutureWarning)\n",
    "from pandas.plotting import scatter_matrix\n",
    "from pandas import read_csv\n",
    "import sklearn\n",
    "from sklearn import datasets\n",
    "from sklearn import *\n",
    "from sklearn.datasets import make_classification\n",
    "from sklearn.model_selection import RepeatedKFold\n",
    "from sklearn.model_selection import cross_val_score\n",
    "from sklearn.datasets import make_regression\n",
    "from sklearn.feature_selection import SelectKBest\n",
    "from sklearn.feature_selection import f_regression\n",
    "from sklearn.model_selection import RepeatedStratifiedKFold\n",
    "from sklearn.feature_selection import RFE\n",
    "from sklearn.tree import DecisionTreeRegressor\n",
    "from sklearn.pipeline import Pipeline\n",
    "from sklearn.model_selection import cross_val_predict\n",
    "from sklearn.ensemble import RandomForestRegressor\n",
    "from sklearn.ensemble import GradientBoostingRegressor\n",
    "from sklearn.feature_selection import RFECV\n",
    "from sklearn.neural_network import MLPRegressor\n",
    "from sklearn.svm import LinearSVR\n",
    "import statsmodels.api as sm\n",
    "import statsmodels.formula.api as smf\n",
    "from statsmodels.graphics.api import abline_plot\n",
    "!pip install plotnine\n",
    "from plotnine import *\n",
    "import matplotlib.pyplot as plt\n",
    "import datetime\n",
    "import pickle\n",
    "from sklearn.model_selection import train_test_split\n",
    "from sklearn.linear_model import LogisticRegression\n",
    "from sklearn.metrics import accuracy_score, confusion_matrix, classification_report\n",
    "from sklearn.neighbors import KNeighborsClassifier\n",
    "from sklearn.preprocessing import scale \n",
    "from sklearn.model_selection import train_test_split\n",
    "from sklearn.linear_model import Ridge, RidgeCV, Lasso, LassoCV\n",
    "from sklearn.metrics import mean_squared_error\n",
    "# if using a Jupyter notebook, include:\n",
    "%matplotlib inline"
   ]
  },
  {
   "cell_type": "code",
   "execution_count": 36,
   "id": "e100bc3f",
   "metadata": {},
   "outputs": [],
   "source": [
    "df = pd.read_excel('duration.xlsx')"
   ]
  },
  {
   "cell_type": "code",
   "execution_count": 37,
   "id": "3cf7a550",
   "metadata": {},
   "outputs": [
    {
     "data": {
      "text/html": [
       "<div>\n",
       "<style scoped>\n",
       "    .dataframe tbody tr th:only-of-type {\n",
       "        vertical-align: middle;\n",
       "    }\n",
       "\n",
       "    .dataframe tbody tr th {\n",
       "        vertical-align: top;\n",
       "    }\n",
       "\n",
       "    .dataframe thead th {\n",
       "        text-align: right;\n",
       "    }\n",
       "</style>\n",
       "<table border=\"1\" class=\"dataframe\">\n",
       "  <thead>\n",
       "    <tr style=\"text-align: right;\">\n",
       "      <th></th>\n",
       "      <th>Region</th>\n",
       "      <th>Procurement Path</th>\n",
       "      <th>GIA Building Total (at start)</th>\n",
       "      <th>Building Category</th>\n",
       "      <th>Project Status</th>\n",
       "      <th>Storeys</th>\n",
       "      <th>Inpatient Beds</th>\n",
       "      <th>Operating Theatres</th>\n",
       "      <th>Site for development</th>\n",
       "      <th>Source of costs</th>\n",
       "      <th>Duration</th>\n",
       "    </tr>\n",
       "  </thead>\n",
       "  <tbody>\n",
       "    <tr>\n",
       "      <th>0</th>\n",
       "      <td>London</td>\n",
       "      <td>P22</td>\n",
       "      <td>4335.0</td>\n",
       "      <td>Mental health</td>\n",
       "      <td>Built</td>\n",
       "      <td>2.0</td>\n",
       "      <td>74.0</td>\n",
       "      <td>NaN</td>\n",
       "      <td>Hospital grounds</td>\n",
       "      <td>Trust cost plan</td>\n",
       "      <td>NaN</td>\n",
       "    </tr>\n",
       "    <tr>\n",
       "      <th>1</th>\n",
       "      <td>London</td>\n",
       "      <td>P21</td>\n",
       "      <td>22945.0</td>\n",
       "      <td>District (medium)</td>\n",
       "      <td>Built</td>\n",
       "      <td>5.0</td>\n",
       "      <td>101.0</td>\n",
       "      <td>8.0</td>\n",
       "      <td>Hospital grounds</td>\n",
       "      <td>Trust cost plan</td>\n",
       "      <td>1160.0</td>\n",
       "    </tr>\n",
       "    <tr>\n",
       "      <th>2</th>\n",
       "      <td>South east</td>\n",
       "      <td>P21</td>\n",
       "      <td>9200.0</td>\n",
       "      <td>Emergency centre</td>\n",
       "      <td>Built</td>\n",
       "      <td>3.0</td>\n",
       "      <td>NaN</td>\n",
       "      <td>NaN</td>\n",
       "      <td>Hospital grounds</td>\n",
       "      <td>Trust cost plan</td>\n",
       "      <td>690.0</td>\n",
       "    </tr>\n",
       "    <tr>\n",
       "      <th>3</th>\n",
       "      <td>South east</td>\n",
       "      <td>P21</td>\n",
       "      <td>9109.0</td>\n",
       "      <td>District (medium)</td>\n",
       "      <td>Under construction</td>\n",
       "      <td>4.0</td>\n",
       "      <td>48.0</td>\n",
       "      <td>6.0</td>\n",
       "      <td>Greenfield</td>\n",
       "      <td>Trust cost plan</td>\n",
       "      <td>828.0</td>\n",
       "    </tr>\n",
       "    <tr>\n",
       "      <th>4</th>\n",
       "      <td>North east</td>\n",
       "      <td>P22</td>\n",
       "      <td>10536.0</td>\n",
       "      <td>Emergency centre</td>\n",
       "      <td>Built</td>\n",
       "      <td>1.0</td>\n",
       "      <td>NaN</td>\n",
       "      <td>NaN</td>\n",
       "      <td>Hospital grounds</td>\n",
       "      <td>Trust cost plan</td>\n",
       "      <td>797.0</td>\n",
       "    </tr>\n",
       "  </tbody>\n",
       "</table>\n",
       "</div>"
      ],
      "text/plain": [
       "       Region Procurement Path  GIA Building Total (at start)  \\\n",
       "0      London              P22                         4335.0   \n",
       "1      London              P21                        22945.0   \n",
       "2  South east              P21                         9200.0   \n",
       "3  South east              P21                         9109.0   \n",
       "4  North east              P22                        10536.0   \n",
       "\n",
       "   Building Category      Project Status  Storeys  Inpatient Beds  \\\n",
       "0      Mental health               Built      2.0            74.0   \n",
       "1  District (medium)               Built      5.0           101.0   \n",
       "2   Emergency centre               Built      3.0             NaN   \n",
       "3  District (medium)  Under construction      4.0            48.0   \n",
       "4   Emergency centre               Built      1.0             NaN   \n",
       "\n",
       "   Operating Theatres Site for development  Source of costs  Duration  \n",
       "0                 NaN     Hospital grounds  Trust cost plan       NaN  \n",
       "1                 8.0     Hospital grounds  Trust cost plan    1160.0  \n",
       "2                 NaN     Hospital grounds  Trust cost plan     690.0  \n",
       "3                 6.0           Greenfield  Trust cost plan     828.0  \n",
       "4                 NaN     Hospital grounds  Trust cost plan     797.0  "
      ]
     },
     "execution_count": 37,
     "metadata": {},
     "output_type": "execute_result"
    }
   ],
   "source": [
    "df.columns = df.columns.str.strip() \n",
    "df.dropna()\n",
    "\n",
    "# Cleaning the data\n",
    "# Capitalise the word for each categorical variable \n",
    "\n",
    "df['Region'] = df['Region'].str.capitalize()\n",
    "df['Procurement Path'] = df['Procurement Path'].str.capitalize()\n",
    "df['Building Category'] = df['Building Category'].str.capitalize().str.strip()\n",
    "df['Project Status'] = df['Project Status'].str.capitalize()\n",
    "df['Site for development'] = df['Site for development'].str.capitalize()\n",
    "df['Source of costs'] = df['Source of costs'].str.capitalize()\n",
    "df.head()"
   ]
  },
  {
   "cell_type": "code",
   "execution_count": 38,
   "id": "b6a3a454",
   "metadata": {},
   "outputs": [],
   "source": [
    "# Drop the Absolute_Duration_day that is smaller than 100 days\n",
    "df = df[(df['Duration'] >= 100) | (df['Duration'].isnull())]"
   ]
  },
  {
   "cell_type": "code",
   "execution_count": 39,
   "id": "0e7b29a6",
   "metadata": {},
   "outputs": [],
   "source": [
    "# Identify numerical columns\n",
    "numerical_columns = df.select_dtypes(include=[np.number]).columns\n",
    "\n",
    "# Log-transform numerical columns\n",
    "df[numerical_columns] = np.log1p(df[numerical_columns])"
   ]
  },
  {
   "cell_type": "code",
   "execution_count": 40,
   "id": "be3ea383",
   "metadata": {},
   "outputs": [
    {
     "data": {
      "text/plain": [
       "(54, 42)"
      ]
     },
     "execution_count": 40,
     "metadata": {},
     "output_type": "execute_result"
    }
   ],
   "source": [
    "# one-hot encoding to make categorical data numerical\n",
    "# drop_first=true is used to break colliarity, as otherwise the linear model will be off\n",
    "dfn = pd.get_dummies(df,drop_first=True)\n",
    "dfn.shape"
   ]
  },
  {
   "cell_type": "code",
   "execution_count": 41,
   "id": "cc3a1a83",
   "metadata": {},
   "outputs": [
    {
     "data": {
      "text/html": [
       "<div>\n",
       "<style scoped>\n",
       "    .dataframe tbody tr th:only-of-type {\n",
       "        vertical-align: middle;\n",
       "    }\n",
       "\n",
       "    .dataframe tbody tr th {\n",
       "        vertical-align: top;\n",
       "    }\n",
       "\n",
       "    .dataframe thead th {\n",
       "        text-align: right;\n",
       "    }\n",
       "</style>\n",
       "<table border=\"1\" class=\"dataframe\">\n",
       "  <thead>\n",
       "    <tr style=\"text-align: right;\">\n",
       "      <th></th>\n",
       "      <th>GIA Building Total (at start)</th>\n",
       "      <th>Storeys</th>\n",
       "      <th>Inpatient Beds</th>\n",
       "      <th>Operating Theatres</th>\n",
       "      <th>Duration</th>\n",
       "    </tr>\n",
       "  </thead>\n",
       "  <tbody>\n",
       "    <tr>\n",
       "      <th>GIA Building Total (at start)</th>\n",
       "      <td>1.000000</td>\n",
       "      <td>0.679455</td>\n",
       "      <td>0.693222</td>\n",
       "      <td>0.710292</td>\n",
       "      <td>0.667420</td>\n",
       "    </tr>\n",
       "    <tr>\n",
       "      <th>Storeys</th>\n",
       "      <td>0.679455</td>\n",
       "      <td>1.000000</td>\n",
       "      <td>0.290006</td>\n",
       "      <td>0.351470</td>\n",
       "      <td>0.622578</td>\n",
       "    </tr>\n",
       "    <tr>\n",
       "      <th>Inpatient Beds</th>\n",
       "      <td>0.693222</td>\n",
       "      <td>0.290006</td>\n",
       "      <td>1.000000</td>\n",
       "      <td>0.609269</td>\n",
       "      <td>0.412173</td>\n",
       "    </tr>\n",
       "    <tr>\n",
       "      <th>Operating Theatres</th>\n",
       "      <td>0.710292</td>\n",
       "      <td>0.351470</td>\n",
       "      <td>0.609269</td>\n",
       "      <td>1.000000</td>\n",
       "      <td>0.517739</td>\n",
       "    </tr>\n",
       "    <tr>\n",
       "      <th>Duration</th>\n",
       "      <td>0.667420</td>\n",
       "      <td>0.622578</td>\n",
       "      <td>0.412173</td>\n",
       "      <td>0.517739</td>\n",
       "      <td>1.000000</td>\n",
       "    </tr>\n",
       "  </tbody>\n",
       "</table>\n",
       "</div>"
      ],
      "text/plain": [
       "                               GIA Building Total (at start)   Storeys  \\\n",
       "GIA Building Total (at start)                       1.000000  0.679455   \n",
       "Storeys                                             0.679455  1.000000   \n",
       "Inpatient Beds                                      0.693222  0.290006   \n",
       "Operating Theatres                                  0.710292  0.351470   \n",
       "Duration                                            0.667420  0.622578   \n",
       "\n",
       "                               Inpatient Beds  Operating Theatres  Duration  \n",
       "GIA Building Total (at start)        0.693222            0.710292  0.667420  \n",
       "Storeys                              0.290006            0.351470  0.622578  \n",
       "Inpatient Beds                       1.000000            0.609269  0.412173  \n",
       "Operating Theatres                   0.609269            1.000000  0.517739  \n",
       "Duration                             0.412173            0.517739  1.000000  "
      ]
     },
     "execution_count": 41,
     "metadata": {},
     "output_type": "execute_result"
    }
   ],
   "source": [
    "df_num = df.select_dtypes(include = ['float64', 'int64'])\n",
    "df_num_corr = df_num.corr()\n",
    "df_num_corr"
   ]
  },
  {
   "cell_type": "code",
   "execution_count": 42,
   "id": "27d3c8e8",
   "metadata": {},
   "outputs": [
    {
     "data": {
      "image/png": "[encoded data removed]",
      "text/plain": [
       "<Figure size 432x288 with 2 Axes>"
      ]
     },
     "metadata": {
      "needs_background": "light"
     },
     "output_type": "display_data"
    }
   ],
   "source": [
    "sn.heatmap(df_num_corr, \n",
    "            cmap='viridis', vmax=1.0, vmin=-1.0, linewidths=0.1,\n",
    "            annot=True, annot_kws={\"size\": 8}, square=True);"
   ]
  },
  {
   "cell_type": "code",
   "execution_count": 43,
   "id": "db60db17",
   "metadata": {},
   "outputs": [],
   "source": [
    "dfn = dfn.drop(columns=['Inpatient Beds'])"
   ]
  },
  {
   "cell_type": "code",
   "execution_count": 44,
   "id": "e13b5093",
   "metadata": {},
   "outputs": [
    {
     "data": {
      "text/html": [
       "<div>\n",
       "<style scoped>\n",
       "    .dataframe tbody tr th:only-of-type {\n",
       "        vertical-align: middle;\n",
       "    }\n",
       "\n",
       "    .dataframe tbody tr th {\n",
       "        vertical-align: top;\n",
       "    }\n",
       "\n",
       "    .dataframe thead th {\n",
       "        text-align: right;\n",
       "    }\n",
       "</style>\n",
       "<table border=\"1\" class=\"dataframe\">\n",
       "  <thead>\n",
       "    <tr style=\"text-align: right;\">\n",
       "      <th></th>\n",
       "      <th>GIA Building Total (at start)</th>\n",
       "      <th>Storeys</th>\n",
       "      <th>Inpatient Beds</th>\n",
       "      <th>Operating Theatres</th>\n",
       "      <th>Duration</th>\n",
       "    </tr>\n",
       "  </thead>\n",
       "  <tbody>\n",
       "    <tr>\n",
       "      <th>GIA Building Total (at start)</th>\n",
       "      <td>1.000000</td>\n",
       "      <td>0.679455</td>\n",
       "      <td>0.693222</td>\n",
       "      <td>0.710292</td>\n",
       "      <td>0.667420</td>\n",
       "    </tr>\n",
       "    <tr>\n",
       "      <th>Storeys</th>\n",
       "      <td>0.679455</td>\n",
       "      <td>1.000000</td>\n",
       "      <td>0.290006</td>\n",
       "      <td>0.351470</td>\n",
       "      <td>0.622578</td>\n",
       "    </tr>\n",
       "    <tr>\n",
       "      <th>Inpatient Beds</th>\n",
       "      <td>0.693222</td>\n",
       "      <td>0.290006</td>\n",
       "      <td>1.000000</td>\n",
       "      <td>0.609269</td>\n",
       "      <td>0.412173</td>\n",
       "    </tr>\n",
       "    <tr>\n",
       "      <th>Operating Theatres</th>\n",
       "      <td>0.710292</td>\n",
       "      <td>0.351470</td>\n",
       "      <td>0.609269</td>\n",
       "      <td>1.000000</td>\n",
       "      <td>0.517739</td>\n",
       "    </tr>\n",
       "    <tr>\n",
       "      <th>Duration</th>\n",
       "      <td>0.667420</td>\n",
       "      <td>0.622578</td>\n",
       "      <td>0.412173</td>\n",
       "      <td>0.517739</td>\n",
       "      <td>1.000000</td>\n",
       "    </tr>\n",
       "  </tbody>\n",
       "</table>\n",
       "</div>"
      ],
      "text/plain": [
       "                               GIA Building Total (at start)   Storeys  \\\n",
       "GIA Building Total (at start)                       1.000000  0.679455   \n",
       "Storeys                                             0.679455  1.000000   \n",
       "Inpatient Beds                                      0.693222  0.290006   \n",
       "Operating Theatres                                  0.710292  0.351470   \n",
       "Duration                                            0.667420  0.622578   \n",
       "\n",
       "                               Inpatient Beds  Operating Theatres  Duration  \n",
       "GIA Building Total (at start)        0.693222            0.710292  0.667420  \n",
       "Storeys                              0.290006            0.351470  0.622578  \n",
       "Inpatient Beds                       1.000000            0.609269  0.412173  \n",
       "Operating Theatres                   0.609269            1.000000  0.517739  \n",
       "Duration                             0.412173            0.517739  1.000000  "
      ]
     },
     "execution_count": 44,
     "metadata": {},
     "output_type": "execute_result"
    }
   ],
   "source": [
    "df_num = df.select_dtypes(include = ['float64', 'int64'])\n",
    "df_num_corr = df_num.corr()\n",
    "df_num_corr"
   ]
  },
  {
   "cell_type": "code",
   "execution_count": 45,
   "id": "a63bb839",
   "metadata": {},
   "outputs": [],
   "source": [
    "# Replacing infinite with nan\n",
    "dfn.replace([np.inf, -np.inf], np.nan, inplace=True)"
   ]
  },
  {
   "cell_type": "code",
   "execution_count": 46,
   "id": "c6c5407b",
   "metadata": {},
   "outputs": [],
   "source": [
    "# imputate by using median method\n",
    "dfn['Duration'] = dfn['Duration'].fillna(dfn['Duration'].median())\n",
    "dfn['Storeys'] = dfn['Storeys'].fillna(dfn['Storeys'].median())\n",
    "dfn['GIA Building Total (at start)'] = dfn['GIA Building Total (at start)'].fillna(dfn['GIA Building Total (at start)'].median())\n",
    "dfn['Operating Theatres'] = dfn['Operating Theatres'].fillna(dfn['Operating Theatres'].median())"
   ]
  },
  {
   "cell_type": "code",
   "execution_count": 47,
   "id": "7e0c4e22",
   "metadata": {},
   "outputs": [],
   "source": [
    "#splitting data into x and y\n",
    "X = dfn.drop('Duration', axis=1)\n",
    "y= dfn['Duration']"
   ]
  },
  {
   "cell_type": "code",
   "execution_count": 48,
   "id": "a39b3e61",
   "metadata": {},
   "outputs": [
    {
     "name": "stdout",
     "output_type": "stream",
     "text": [
      "MAE: -0.646 (0.775)\n"
     ]
    }
   ],
   "source": [
    "# rfe works by fitting the ml model, ranking features by importance, discarding the least important fetaure, re-fitting the model\n",
    "# and then recursively doing this until the selected number of features is left\n",
    "\n",
    "# implementing rfe using a linear model selecting top 10 features\n",
    "\n",
    "# create pipeline\n",
    "rfe = RFE(estimator=linear_model.LinearRegression(fit_intercept=False), n_features_to_select=10)\n",
    "model = linear_model.LinearRegression(fit_intercept=False)\n",
    "pipeline = Pipeline(steps=[('s',rfe),('m',model)])\n",
    "\n",
    "# evaluate model using cross validation\n",
    "# cv splits the data into 10 groups, then takes out one group to be the test data and evaluates it \n",
    "# this is repeated so each group is evaluated as the test data, and then the results of all are averaged\n",
    "cv = RepeatedKFold(n_splits=10, n_repeats=3, random_state=1)\n",
    "n_scores = cross_val_score(pipeline, X, y, scoring='neg_mean_absolute_error', cv=cv, n_jobs=-1, error_score='raise')\n",
    "\n",
    "# report performance\n",
    "print('MAE: %.3f (%.3f)' % (np.mean(n_scores), np.std(n_scores)))"
   ]
  },
  {
   "cell_type": "code",
   "execution_count": 49,
   "id": "a3b4cba2",
   "metadata": {},
   "outputs": [
    {
     "name": "stdout",
     "output_type": "stream",
     "text": [
      ">LR -0.437 (0.215)\n",
      ">BRR -0.283 (0.093)\n",
      ">CART -0.340 (0.124)\n",
      ">RF -0.279 (0.085)\n",
      ">GBM -0.285 (0.079)\n",
      ">SVM -0.368 (0.124)\n"
     ]
    }
   ],
   "source": [
    "def get_models():\n",
    "\tmodels = dict()\n",
    "\t# linear regresssion\n",
    "\trfe = RFE(estimator=linear_model.LinearRegression(fit_intercept=False), n_features_to_select=25)\n",
    "\tmodel = linear_model.LinearRegression(fit_intercept=False)\n",
    "\tmodels['LR'] = Pipeline(steps=[('s',rfe),('m',model)])\n",
    "\t #bayesian ridge regression\n",
    "\trfe = RFE(estimator=linear_model.BayesianRidge(), n_features_to_select=10)\n",
    "\tmodel = linear_model.BayesianRidge()\n",
    "\tmodels['BRR'] = Pipeline(steps=[('s',rfe),('m',model)])\n",
    "\t# cart\n",
    "\trfe = RFE(estimator=DecisionTreeRegressor(), n_features_to_select=10)\n",
    "\tmodel = DecisionTreeRegressor()\n",
    "\tmodels['CART'] = Pipeline(steps=[('s',rfe),('m',model)])\n",
    "\t# random forest\n",
    "\trfe = RFE(estimator=RandomForestRegressor(), n_features_to_select=10)\n",
    "\tmodel = RandomForestRegressor()\n",
    "\tmodels['RF'] = Pipeline(steps=[('s',rfe),('m',model)])\n",
    "\t# gradient boosting machine\n",
    "\trfe = RFE(estimator=GradientBoostingRegressor(), n_features_to_select=10)\n",
    "\tmodel = GradientBoostingRegressor()\n",
    "\tmodels['GBM'] = Pipeline(steps=[('s',rfe),('m',model)])\n",
    "\t# support vector machine\n",
    "\trfe = RFE(estimator=LinearSVR(random_state=0, tol=1e-5), n_features_to_select=10)\n",
    "\tmodel = LinearSVR(random_state=0, tol=1e-5)\n",
    "\tmodels['SVM'] = Pipeline(steps=[('s',rfe),('m',model)])\n",
    "\treturn models\n",
    "\n",
    " \n",
    "# evaluate each model using cross-validation\n",
    "def evaluate_model(model, X, y):\n",
    "\tcv = RepeatedKFold(n_splits=10, n_repeats=3, random_state=1)\n",
    "\tscores = cross_val_score(model, X, y, scoring='neg_mean_absolute_error', cv=cv, n_jobs=-1, error_score='raise')\n",
    "\treturn scores\n",
    " \n",
    "    \n",
    "# get the models to evaluate\n",
    "models = get_models()\n",
    "# evaluate the models and store results\n",
    "results, names = list(), list()\n",
    "for name, model in models.items():\n",
    "\tscores = evaluate_model(model, X, y)\n",
    "\tresults.append(scores)\n",
    "\tnames.append(name)\n",
    "\tprint('>%s %.3f (%.3f)' % (name, np.mean(scores), np.std(scores)))"
   ]
  },
  {
   "cell_type": "code",
   "execution_count": 50,
   "id": "5291fdbc",
   "metadata": {},
   "outputs": [
    {
     "data": {
      "image/png": "[encoded data removed]",
      "text/plain": [
       "<Figure size 432x288 with 1 Axes>"
      ]
     },
     "metadata": {
      "needs_background": "light"
     },
     "output_type": "display_data"
    }
   ],
   "source": [
    "# plot model performance for comparison\n",
    "#orange line is median, green triangle is mean, box shows variation of scores\n",
    "plt.boxplot(results, labels=names, showmeans=True)\n",
    "plt.show()"
   ]
  },
  {
   "cell_type": "markdown",
   "id": "1c373d02",
   "metadata": {},
   "source": [
    "## RF"
   ]
  },
  {
   "cell_type": "code",
   "execution_count": 53,
   "id": "a8cd7684",
   "metadata": {},
   "outputs": [
    {
     "name": "stdout",
     "output_type": "stream",
     "text": [
      "Training Features Shape: (40, 40)\n",
      "Training Labels Shape: (40,)\n",
      "Testing Features Shape: (14, 40)\n",
      "Testing Labels Shape: (14,)\n"
     ]
    }
   ],
   "source": [
    "# Split the data into training and testing sets\n",
    "train_X, test_X, train_y, test_y = train_test_split(X, y, random_state = 0)\n",
    "\n",
    "# print the info about the split data\n",
    "print('Training Features Shape:', train_X.shape)\n",
    "print('Training Labels Shape:', train_y.shape)\n",
    "print('Testing Features Shape:', test_X.shape)\n",
    "print('Testing Labels Shape:', test_y.shape)"
   ]
  },
  {
   "cell_type": "code",
   "execution_count": 54,
   "id": "12ad91f7",
   "metadata": {},
   "outputs": [],
   "source": [
    "## Import the model we are using\n",
    "from sklearn.ensemble import RandomForestRegressor\n",
    "# Instantiate model with 1000 decision trees\n",
    "rf = RandomForestRegressor(n_estimators = 1000, random_state = 0)\n",
    "# Train the model on training data\n",
    "rf.fit(train_X, train_y);"
   ]
  },
  {
   "cell_type": "code",
   "execution_count": 55,
   "id": "055b8820",
   "metadata": {},
   "outputs": [
    {
     "name": "stdout",
     "output_type": "stream",
     "text": [
      "Mean Absolute Error: 0.3 degrees.\n"
     ]
    }
   ],
   "source": [
    "# Use the forest's predict method on the test data\n",
    "predictions = rf.predict(test_X)\n",
    "# Calculate the absolute errors\n",
    "errors = abs(predictions - test_y)\n",
    "# Print out the mean absolute error (mae)\n",
    "print('Mean Absolute Error:', round(np.mean(errors), 2), 'degrees.')"
   ]
  },
  {
   "cell_type": "code",
   "execution_count": 56,
   "id": "f37c9a0d",
   "metadata": {},
   "outputs": [
    {
     "name": "stdout",
     "output_type": "stream",
     "text": [
      "Accuracy: 95.64 %.\n"
     ]
    }
   ],
   "source": [
    "# Calculate mean absolute percentage error (MAPE)\n",
    "mape = 100 * (errors / test_y)\n",
    "# Calculate and display accuracy\n",
    "accuracy = 100 - np.mean(mape)\n",
    "print('Accuracy:', round(accuracy, 2), '%.')"
   ]
  },
  {
   "cell_type": "code",
   "execution_count": 57,
   "id": "45f57d6c",
   "metadata": {},
   "outputs": [
    {
     "ename": "NameError",
     "evalue": "name 'feature_list' is not defined",
     "output_type": "error",
     "traceback": [
      "\u001b[1;31m---------------------------------------------------------------------------\u001b[0m",
      "\u001b[1;31mNameError\u001b[0m                                 Traceback (most recent call last)",
      "\u001b[1;32m~\\AppData\\Local\\Temp/ipykernel_14996/2680909610.py\u001b[0m in \u001b[0;36m<module>\u001b[1;34m\u001b[0m\n\u001b[0;32m      3\u001b[0m \u001b[0mimportances\u001b[0m \u001b[1;33m=\u001b[0m \u001b[0mlist\u001b[0m\u001b[1;33m(\u001b[0m\u001b[0mrf\u001b[0m\u001b[1;33m.\u001b[0m\u001b[0mfeature_importances_\u001b[0m\u001b[1;33m)\u001b[0m\u001b[1;33m\u001b[0m\u001b[1;33m\u001b[0m\u001b[0m\n\u001b[0;32m      4\u001b[0m \u001b[1;31m# List of tuples with variable and importance\u001b[0m\u001b[1;33m\u001b[0m\u001b[1;33m\u001b[0m\u001b[0m\n\u001b[1;32m----> 5\u001b[1;33m \u001b[0mfeature_importances\u001b[0m \u001b[1;33m=\u001b[0m \u001b[1;33m[\u001b[0m\u001b[1;33m(\u001b[0m\u001b[0mfeature\u001b[0m\u001b[1;33m,\u001b[0m \u001b[0mround\u001b[0m\u001b[1;33m(\u001b[0m\u001b[0mimportance\u001b[0m\u001b[1;33m,\u001b[0m \u001b[1;36m2\u001b[0m\u001b[1;33m)\u001b[0m\u001b[1;33m)\u001b[0m \u001b[1;32mfor\u001b[0m \u001b[0mfeature\u001b[0m\u001b[1;33m,\u001b[0m \u001b[0mimportance\u001b[0m \u001b[1;32min\u001b[0m \u001b[0mzip\u001b[0m\u001b[1;33m(\u001b[0m\u001b[0mfeature_list\u001b[0m\u001b[1;33m,\u001b[0m \u001b[0mimportances\u001b[0m\u001b[1;33m)\u001b[0m\u001b[1;33m]\u001b[0m\u001b[1;33m\u001b[0m\u001b[1;33m\u001b[0m\u001b[0m\n\u001b[0m\u001b[0;32m      6\u001b[0m \u001b[1;31m# Sort the feature importances by most important first\u001b[0m\u001b[1;33m\u001b[0m\u001b[1;33m\u001b[0m\u001b[0m\n\u001b[0;32m      7\u001b[0m \u001b[0mfeature_importances\u001b[0m \u001b[1;33m=\u001b[0m \u001b[0msorted\u001b[0m\u001b[1;33m(\u001b[0m\u001b[0mfeature_importances\u001b[0m\u001b[1;33m,\u001b[0m \u001b[0mkey\u001b[0m \u001b[1;33m=\u001b[0m \u001b[1;32mlambda\u001b[0m \u001b[0mx\u001b[0m\u001b[1;33m:\u001b[0m \u001b[0mx\u001b[0m\u001b[1;33m[\u001b[0m\u001b[1;36m1\u001b[0m\u001b[1;33m]\u001b[0m\u001b[1;33m,\u001b[0m \u001b[0mreverse\u001b[0m \u001b[1;33m=\u001b[0m \u001b[1;32mTrue\u001b[0m\u001b[1;33m)\u001b[0m\u001b[1;33m\u001b[0m\u001b[1;33m\u001b[0m\u001b[0m\n",
      "\u001b[1;31mNameError\u001b[0m: name 'feature_list' is not defined"
     ]
    }
   ],
   "source": [
    "# Variable Importances\n",
    "# Get numerical feature importances\n",
    "importances = list(rf.feature_importances_)\n",
    "# List of tuples with variable and importance\n",
    "feature_importances = [(feature, round(importance, 2)) for feature, importance in zip(feature_list, importances)]\n",
    "# Sort the feature importances by most important first\n",
    "feature_importances = sorted(feature_importances, key = lambda x: x[1], reverse = True)\n",
    "# Print out the feature and importances \n",
    "[print('Variable: {:56} Importance: {}'.format(*pair)) for pair in feature_importances];"
   ]
  },
  {
   "cell_type": "code",
   "execution_count": null,
   "id": "157038f2",
   "metadata": {},
   "outputs": [],
   "source": []
  }
 ],
 "metadata": {
  "kernelspec": {
   "display_name": "Python 3 (ipykernel)",
   "language": "python",
   "name": "python3"
  },
  "language_info": {
   "codemirror_mode": {
    "name": "ipython",
    "version": 3
   },
   "file_extension": ".py",
   "mimetype": "text/x-python",
   "name": "python",
   "nbconvert_exporter": "python",
   "pygments_lexer": "ipython3",
   "version": "3.9.7"
  }
 },
 "nbformat": 4,
 "nbformat_minor": 5
}
