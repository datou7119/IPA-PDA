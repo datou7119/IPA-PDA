{
 "cells": [
  {
   "cell_type": "code",
   "execution_count": 1,
   "id": "cf9dbf4c",
   "metadata": {},
   "outputs": [
    {
     "name": "stdout",
     "output_type": "stream",
     "text": [
      "Requirement already satisfied: plotnine in c:\\users\\shen_y\\anaconda3\\lib\\site-packages (0.8.0)\n",
      "Requirement already satisfied: scipy>=1.5.0 in c:\\users\\shen_y\\anaconda3\\lib\\site-packages (from plotnine) (1.7.1)\n",
      "Requirement already satisfied: pandas>=1.1.0 in c:\\users\\shen_y\\anaconda3\\lib\\site-packages (from plotnine) (1.4.4)\n",
      "Requirement already satisfied: descartes>=1.1.0 in c:\\users\\shen_y\\anaconda3\\lib\\site-packages (from plotnine) (1.1.0)\n",
      "Requirement already satisfied: numpy>=1.19.0 in c:\\users\\shen_y\\anaconda3\\lib\\site-packages (from plotnine) (1.22.1)\n",
      "Requirement already satisfied: matplotlib>=3.1.1 in c:\\users\\shen_y\\anaconda3\\lib\\site-packages (from plotnine) (3.5.2)\n",
      "Requirement already satisfied: patsy>=0.5.1 in c:\\users\\shen_y\\anaconda3\\lib\\site-packages (from plotnine) (0.5.2)\n",
      "Requirement already satisfied: mizani>=0.7.3 in c:\\users\\shen_y\\anaconda3\\lib\\site-packages (from plotnine) (0.7.4)\n",
      "Requirement already satisfied: statsmodels>=0.12.1 in c:\\users\\shen_y\\anaconda3\\lib\\site-packages (from plotnine) (0.12.2)\n",
      "Requirement already satisfied: packaging>=20.0 in c:\\users\\shen_y\\anaconda3\\lib\\site-packages (from matplotlib>=3.1.1->plotnine) (21.0)\n",
      "Requirement already satisfied: kiwisolver>=1.0.1 in c:\\users\\shen_y\\anaconda3\\lib\\site-packages (from matplotlib>=3.1.1->plotnine) (1.3.1)\n",
      "Requirement already satisfied: cycler>=0.10 in c:\\users\\shen_y\\anaconda3\\lib\\site-packages (from matplotlib>=3.1.1->plotnine) (0.10.0)\n",
      "Requirement already satisfied: pillow>=6.2.0 in c:\\users\\shen_y\\anaconda3\\lib\\site-packages (from matplotlib>=3.1.1->plotnine) (8.4.0)\n",
      "Requirement already satisfied: pyparsing>=2.2.1 in c:\\users\\shen_y\\anaconda3\\lib\\site-packages (from matplotlib>=3.1.1->plotnine) (3.0.4)\n",
      "Requirement already satisfied: python-dateutil>=2.7 in c:\\users\\shen_y\\anaconda3\\lib\\site-packages (from matplotlib>=3.1.1->plotnine) (2.8.2)\n",
      "Requirement already satisfied: fonttools>=4.22.0 in c:\\users\\shen_y\\anaconda3\\lib\\site-packages (from matplotlib>=3.1.1->plotnine) (4.25.0)\n",
      "Requirement already satisfied: six in c:\\users\\shen_y\\anaconda3\\lib\\site-packages (from cycler>=0.10->matplotlib>=3.1.1->plotnine) (1.16.0)\n",
      "Requirement already satisfied: palettable in c:\\users\\shen_y\\anaconda3\\lib\\site-packages (from mizani>=0.7.3->plotnine) (3.3.0)\n",
      "Requirement already satisfied: pytz>=2020.1 in c:\\users\\shen_y\\anaconda3\\lib\\site-packages (from pandas>=1.1.0->plotnine) (2021.3)\n"
     ]
    }
   ],
   "source": [
    "#importing the useful libraries\n",
    "import sys\n",
    "import scipy\n",
    "import numpy as np\n",
    "import seaborn as sn\n",
    "import pandas as pd\n",
    "pd.options.mode.chained_assignment = None \n",
    "import warnings\n",
    "warnings.simplefilter(action='ignore', category=FutureWarning)\n",
    "from pandas.plotting import scatter_matrix\n",
    "from pandas import read_csv\n",
    "import sklearn\n",
    "from sklearn import datasets\n",
    "from sklearn import *\n",
    "from sklearn.datasets import make_classification\n",
    "from sklearn.model_selection import RepeatedKFold\n",
    "from sklearn.model_selection import cross_val_score\n",
    "from sklearn.datasets import make_regression\n",
    "from sklearn.feature_selection import SelectKBest\n",
    "from sklearn.feature_selection import f_regression\n",
    "from sklearn.model_selection import RepeatedStratifiedKFold\n",
    "from sklearn.feature_selection import RFE\n",
    "from sklearn.tree import DecisionTreeRegressor\n",
    "from sklearn.pipeline import Pipeline\n",
    "from sklearn.model_selection import cross_val_predict\n",
    "from sklearn.ensemble import RandomForestRegressor\n",
    "from sklearn.ensemble import GradientBoostingRegressor\n",
    "from sklearn.feature_selection import RFECV\n",
    "from sklearn.neural_network import MLPRegressor\n",
    "from sklearn.svm import LinearSVR\n",
    "import statsmodels.api as sm\n",
    "import statsmodels.formula.api as smf\n",
    "from statsmodels.graphics.api import abline_plot\n",
    "!pip install plotnine\n",
    "from plotnine import *\n",
    "import matplotlib.pyplot as plt\n",
    "import datetime\n",
    "import pickle\n",
    "from sklearn.model_selection import train_test_split\n",
    "from sklearn.linear_model import LogisticRegression\n",
    "from sklearn.metrics import accuracy_score, confusion_matrix, classification_report\n",
    "from sklearn.neighbors import KNeighborsClassifier\n",
    "from sklearn.preprocessing import scale \n",
    "from sklearn.model_selection import train_test_split\n",
    "from sklearn.linear_model import Ridge, RidgeCV, Lasso, LassoCV\n",
    "from sklearn.metrics import mean_squared_error\n",
    "# if using a Jupyter notebook, include:\n",
    "%matplotlib inline"
   ]
  },
  {
   "cell_type": "code",
   "execution_count": 110,
   "id": "e0a2854b",
   "metadata": {},
   "outputs": [],
   "source": [
    "df = pd.read_excel('data.xlsx')"
   ]
  },
  {
   "cell_type": "code",
   "execution_count": 111,
   "id": "031d806d",
   "metadata": {},
   "outputs": [
    {
     "data": {
      "text/html": [
       "<div>\n",
       "<style scoped>\n",
       "    .dataframe tbody tr th:only-of-type {\n",
       "        vertical-align: middle;\n",
       "    }\n",
       "\n",
       "    .dataframe tbody tr th {\n",
       "        vertical-align: top;\n",
       "    }\n",
       "\n",
       "    .dataframe thead th {\n",
       "        text-align: right;\n",
       "    }\n",
       "</style>\n",
       "<table border=\"1\" class=\"dataframe\">\n",
       "  <thead>\n",
       "    <tr style=\"text-align: right;\">\n",
       "      <th></th>\n",
       "      <th>Region</th>\n",
       "      <th>Procurement Path</th>\n",
       "      <th>GIA Building Total (at start)</th>\n",
       "      <th>Building Category</th>\n",
       "      <th>Project Status</th>\n",
       "      <th>Storeys</th>\n",
       "      <th>Inpatient Beds</th>\n",
       "      <th>Operating Theatres</th>\n",
       "      <th>Site for development</th>\n",
       "      <th>Source of costs</th>\n",
       "      <th>Outturn Cost</th>\n",
       "    </tr>\n",
       "  </thead>\n",
       "  <tbody>\n",
       "    <tr>\n",
       "      <th>0</th>\n",
       "      <td>London</td>\n",
       "      <td>P22</td>\n",
       "      <td>4335.0</td>\n",
       "      <td>Mental Health</td>\n",
       "      <td>Built</td>\n",
       "      <td>2.0</td>\n",
       "      <td>74.0</td>\n",
       "      <td>NaN</td>\n",
       "      <td>Hospital grounds</td>\n",
       "      <td>Trust cost plan</td>\n",
       "      <td>25133111.0</td>\n",
       "    </tr>\n",
       "    <tr>\n",
       "      <th>1</th>\n",
       "      <td>London</td>\n",
       "      <td>P21</td>\n",
       "      <td>22945.0</td>\n",
       "      <td>District (Medium)</td>\n",
       "      <td>Built</td>\n",
       "      <td>5.0</td>\n",
       "      <td>101.0</td>\n",
       "      <td>8.0</td>\n",
       "      <td>Hospital grounds</td>\n",
       "      <td>Trust cost plan</td>\n",
       "      <td>103938557.0</td>\n",
       "    </tr>\n",
       "    <tr>\n",
       "      <th>2</th>\n",
       "      <td>South East</td>\n",
       "      <td>P21</td>\n",
       "      <td>9200.0</td>\n",
       "      <td>Emergency centre</td>\n",
       "      <td>Built</td>\n",
       "      <td>3.0</td>\n",
       "      <td>NaN</td>\n",
       "      <td>NaN</td>\n",
       "      <td>Hospital grounds</td>\n",
       "      <td>Trust cost plan</td>\n",
       "      <td>35097831.0</td>\n",
       "    </tr>\n",
       "    <tr>\n",
       "      <th>3</th>\n",
       "      <td>South East</td>\n",
       "      <td>P21</td>\n",
       "      <td>9109.0</td>\n",
       "      <td>District (Medium)</td>\n",
       "      <td>Under construction</td>\n",
       "      <td>4.0</td>\n",
       "      <td>48.0</td>\n",
       "      <td>6.0</td>\n",
       "      <td>Greenfield</td>\n",
       "      <td>Trust cost plan</td>\n",
       "      <td>63972666.0</td>\n",
       "    </tr>\n",
       "    <tr>\n",
       "      <th>4</th>\n",
       "      <td>North East</td>\n",
       "      <td>P22</td>\n",
       "      <td>10536.0</td>\n",
       "      <td>Emergency centre</td>\n",
       "      <td>Built</td>\n",
       "      <td>1.0</td>\n",
       "      <td>NaN</td>\n",
       "      <td>NaN</td>\n",
       "      <td>Hospital grounds</td>\n",
       "      <td>Trust cost plan</td>\n",
       "      <td>23086111.0</td>\n",
       "    </tr>\n",
       "  </tbody>\n",
       "</table>\n",
       "</div>"
      ],
      "text/plain": [
       "       Region Procurement Path  GIA Building Total (at start)  \\\n",
       "0      London              P22                         4335.0   \n",
       "1      London              P21                        22945.0   \n",
       "2  South East              P21                         9200.0   \n",
       "3  South East              P21                         9109.0   \n",
       "4  North East              P22                        10536.0   \n",
       "\n",
       "   Building Category      Project Status  Storeys   Inpatient Beds  \\\n",
       "0      Mental Health               Built       2.0            74.0   \n",
       "1  District (Medium)               Built       5.0           101.0   \n",
       "2   Emergency centre               Built       3.0             NaN   \n",
       "3  District (Medium)  Under construction       4.0            48.0   \n",
       "4   Emergency centre               Built       1.0             NaN   \n",
       "\n",
       "   Operating Theatres Site for development  Source of costs  Outturn Cost  \n",
       "0                 NaN     Hospital grounds  Trust cost plan    25133111.0  \n",
       "1                 8.0     Hospital grounds  Trust cost plan   103938557.0  \n",
       "2                 NaN     Hospital grounds  Trust cost plan    35097831.0  \n",
       "3                 6.0           Greenfield  Trust cost plan    63972666.0  \n",
       "4                 NaN     Hospital grounds  Trust cost plan    23086111.0  "
      ]
     },
     "execution_count": 111,
     "metadata": {},
     "output_type": "execute_result"
    }
   ],
   "source": [
    "df.head()"
   ]
  },
  {
   "cell_type": "code",
   "execution_count": 112,
   "id": "217c6c41",
   "metadata": {},
   "outputs": [],
   "source": [
    "# change unit of outturn_cost_gbp_uk \n",
    "df = df.drop(columns=['Inpatient Beds'])\n",
    "#df['Outturn Cost'] = df['Outturn Cost'] / (10**7)"
   ]
  },
  {
   "cell_type": "code",
   "execution_count": 113,
   "id": "8335d284",
   "metadata": {},
   "outputs": [],
   "source": [
    "# Identify numerical columns\n",
    "numerical_columns = df.select_dtypes(include=[np.number]).columns\n",
    "\n",
    "# Log-transform numerical columns\n",
    "df[numerical_columns] = np.log1p(df[numerical_columns])"
   ]
  },
  {
   "cell_type": "code",
   "execution_count": 114,
   "id": "579cc34a",
   "metadata": {},
   "outputs": [],
   "source": [
    "df.columns = df.columns.str.strip() \n",
    "df.dropna()\n",
    "\n",
    "# Cleaning the data\n",
    "# Capitalise the word for each categorical variable \n",
    "\n",
    "df['Region'] = df['Region'].str.capitalize()\n",
    "df['Procurement Path'] = df['Procurement Path'].str.capitalize()\n",
    "df['Building Category'] = df['Building Category'].str.capitalize().str.strip()\n",
    "df['Project Status'] = df['Project Status'].str.capitalize()\n",
    "df['Site for development'] = df['Site for development'].str.capitalize()\n",
    "df['Source of costs'] = df['Source of costs'].str.capitalize()"
   ]
  },
  {
   "cell_type": "code",
   "execution_count": 115,
   "id": "adce8885",
   "metadata": {},
   "outputs": [
    {
     "data": {
      "text/plain": [
       "(59, 41)"
      ]
     },
     "execution_count": 115,
     "metadata": {},
     "output_type": "execute_result"
    }
   ],
   "source": [
    "# one-hot encoding to make categorical data numerical\n",
    "# drop_first=true is used to break colliarity, as otherwise the linear model will be off\n",
    "dfn = pd.get_dummies(df,drop_first=True)\n",
    "dfn.shape"
   ]
  },
  {
   "cell_type": "code",
   "execution_count": 116,
   "id": "e6d4ceea",
   "metadata": {},
   "outputs": [],
   "source": [
    "# Replacing infinite with nan\n",
    "dfn.replace([np.inf, -np.inf], np.nan, inplace=True)"
   ]
  },
  {
   "cell_type": "code",
   "execution_count": 117,
   "id": "0488c348",
   "metadata": {},
   "outputs": [],
   "source": [
    "# imputate by using median method\n",
    "dfn['Storeys'] = dfn['Storeys'].fillna(dfn['Storeys'].median())\n",
    "dfn['GIA Building Total (at start)'] = dfn['GIA Building Total (at start)'].fillna(dfn['GIA Building Total (at start)'].median())\n",
    "dfn['Operating Theatres'] = dfn['Operating Theatres'].fillna(dfn['Operating Theatres'].median())\n",
    "#dfn['Inpatient Beds'] = dfn['Inpatient Beds'].fillna(dfn['Inpatient Beds'].median())\n"
   ]
  },
  {
   "cell_type": "code",
   "execution_count": 118,
   "id": "d7c18fdf",
   "metadata": {},
   "outputs": [],
   "source": [
    "#splitting data into x and y\n",
    "X = dfn.drop('Outturn Cost', axis=1)\n",
    "y= dfn['Outturn Cost']"
   ]
  },
  {
   "cell_type": "code",
   "execution_count": 119,
   "id": "0da3bf22",
   "metadata": {},
   "outputs": [
    {
     "data": {
      "text/html": [
       "<div>\n",
       "<style scoped>\n",
       "    .dataframe tbody tr th:only-of-type {\n",
       "        vertical-align: middle;\n",
       "    }\n",
       "\n",
       "    .dataframe tbody tr th {\n",
       "        vertical-align: top;\n",
       "    }\n",
       "\n",
       "    .dataframe thead th {\n",
       "        text-align: right;\n",
       "    }\n",
       "</style>\n",
       "<table border=\"1\" class=\"dataframe\">\n",
       "  <thead>\n",
       "    <tr style=\"text-align: right;\">\n",
       "      <th></th>\n",
       "      <th>GIA Building Total (at start)</th>\n",
       "      <th>Storeys</th>\n",
       "      <th>Operating Theatres</th>\n",
       "      <th>Outturn Cost</th>\n",
       "      <th>Region_East of england</th>\n",
       "      <th>Region_International</th>\n",
       "      <th>Region_London</th>\n",
       "      <th>Region_North east</th>\n",
       "      <th>Region_North west</th>\n",
       "      <th>Region_Northern ireland</th>\n",
       "      <th>...</th>\n",
       "      <th>Site for development_Hospital grounds</th>\n",
       "      <th>Site for development_New build hospital</th>\n",
       "      <th>Source of costs_Elemental cost analysis template</th>\n",
       "      <th>Source of costs_Elemental cost breakdown</th>\n",
       "      <th>Source of costs_Fbc</th>\n",
       "      <th>Source of costs_Obc</th>\n",
       "      <th>Source of costs_Other</th>\n",
       "      <th>Source of costs_Trust cost plan</th>\n",
       "      <th>Source of costs_Works cost analysis template</th>\n",
       "      <th>Source of costs_Works cost analysis template - only tender cost provided</th>\n",
       "    </tr>\n",
       "  </thead>\n",
       "  <tbody>\n",
       "    <tr>\n",
       "      <th>0</th>\n",
       "      <td>8.374708</td>\n",
       "      <td>1.098612</td>\n",
       "      <td>1.777674</td>\n",
       "      <td>17.039697</td>\n",
       "      <td>0</td>\n",
       "      <td>0</td>\n",
       "      <td>1</td>\n",
       "      <td>0</td>\n",
       "      <td>0</td>\n",
       "      <td>0</td>\n",
       "      <td>...</td>\n",
       "      <td>1</td>\n",
       "      <td>0</td>\n",
       "      <td>0</td>\n",
       "      <td>0</td>\n",
       "      <td>0</td>\n",
       "      <td>0</td>\n",
       "      <td>0</td>\n",
       "      <td>1</td>\n",
       "      <td>0</td>\n",
       "      <td>0</td>\n",
       "    </tr>\n",
       "    <tr>\n",
       "      <th>1</th>\n",
       "      <td>10.040899</td>\n",
       "      <td>1.791759</td>\n",
       "      <td>2.197225</td>\n",
       "      <td>18.459310</td>\n",
       "      <td>0</td>\n",
       "      <td>0</td>\n",
       "      <td>1</td>\n",
       "      <td>0</td>\n",
       "      <td>0</td>\n",
       "      <td>0</td>\n",
       "      <td>...</td>\n",
       "      <td>1</td>\n",
       "      <td>0</td>\n",
       "      <td>0</td>\n",
       "      <td>0</td>\n",
       "      <td>0</td>\n",
       "      <td>0</td>\n",
       "      <td>0</td>\n",
       "      <td>1</td>\n",
       "      <td>0</td>\n",
       "      <td>0</td>\n",
       "    </tr>\n",
       "    <tr>\n",
       "      <th>2</th>\n",
       "      <td>9.127067</td>\n",
       "      <td>1.386294</td>\n",
       "      <td>1.777674</td>\n",
       "      <td>17.373650</td>\n",
       "      <td>0</td>\n",
       "      <td>0</td>\n",
       "      <td>0</td>\n",
       "      <td>0</td>\n",
       "      <td>0</td>\n",
       "      <td>0</td>\n",
       "      <td>...</td>\n",
       "      <td>1</td>\n",
       "      <td>0</td>\n",
       "      <td>0</td>\n",
       "      <td>0</td>\n",
       "      <td>0</td>\n",
       "      <td>0</td>\n",
       "      <td>0</td>\n",
       "      <td>1</td>\n",
       "      <td>0</td>\n",
       "      <td>0</td>\n",
       "    </tr>\n",
       "    <tr>\n",
       "      <th>3</th>\n",
       "      <td>9.117128</td>\n",
       "      <td>1.609438</td>\n",
       "      <td>1.945910</td>\n",
       "      <td>17.973966</td>\n",
       "      <td>0</td>\n",
       "      <td>0</td>\n",
       "      <td>0</td>\n",
       "      <td>0</td>\n",
       "      <td>0</td>\n",
       "      <td>0</td>\n",
       "      <td>...</td>\n",
       "      <td>0</td>\n",
       "      <td>0</td>\n",
       "      <td>0</td>\n",
       "      <td>0</td>\n",
       "      <td>0</td>\n",
       "      <td>0</td>\n",
       "      <td>0</td>\n",
       "      <td>1</td>\n",
       "      <td>0</td>\n",
       "      <td>0</td>\n",
       "    </tr>\n",
       "    <tr>\n",
       "      <th>4</th>\n",
       "      <td>9.262648</td>\n",
       "      <td>0.693147</td>\n",
       "      <td>1.777674</td>\n",
       "      <td>16.954742</td>\n",
       "      <td>0</td>\n",
       "      <td>0</td>\n",
       "      <td>0</td>\n",
       "      <td>1</td>\n",
       "      <td>0</td>\n",
       "      <td>0</td>\n",
       "      <td>...</td>\n",
       "      <td>1</td>\n",
       "      <td>0</td>\n",
       "      <td>0</td>\n",
       "      <td>0</td>\n",
       "      <td>0</td>\n",
       "      <td>0</td>\n",
       "      <td>0</td>\n",
       "      <td>1</td>\n",
       "      <td>0</td>\n",
       "      <td>0</td>\n",
       "    </tr>\n",
       "  </tbody>\n",
       "</table>\n",
       "<p>5 rows × 41 columns</p>\n",
       "</div>"
      ],
      "text/plain": [
       "   GIA Building Total (at start)   Storeys  Operating Theatres  Outturn Cost  \\\n",
       "0                       8.374708  1.098612            1.777674     17.039697   \n",
       "1                      10.040899  1.791759            2.197225     18.459310   \n",
       "2                       9.127067  1.386294            1.777674     17.373650   \n",
       "3                       9.117128  1.609438            1.945910     17.973966   \n",
       "4                       9.262648  0.693147            1.777674     16.954742   \n",
       "\n",
       "   Region_East of england  Region_International   Region_London  \\\n",
       "0                       0                      0              1   \n",
       "1                       0                      0              1   \n",
       "2                       0                      0              0   \n",
       "3                       0                      0              0   \n",
       "4                       0                      0              0   \n",
       "\n",
       "   Region_North east  Region_North west  Region_Northern ireland   ...  \\\n",
       "0                  0                  0                         0  ...   \n",
       "1                  0                  0                         0  ...   \n",
       "2                  0                  0                         0  ...   \n",
       "3                  0                  0                         0  ...   \n",
       "4                  1                  0                         0  ...   \n",
       "\n",
       "   Site for development_Hospital grounds  \\\n",
       "0                                      1   \n",
       "1                                      1   \n",
       "2                                      1   \n",
       "3                                      0   \n",
       "4                                      1   \n",
       "\n",
       "   Site for development_New build hospital  \\\n",
       "0                                        0   \n",
       "1                                        0   \n",
       "2                                        0   \n",
       "3                                        0   \n",
       "4                                        0   \n",
       "\n",
       "   Source of costs_Elemental cost analysis template   \\\n",
       "0                                                  0   \n",
       "1                                                  0   \n",
       "2                                                  0   \n",
       "3                                                  0   \n",
       "4                                                  0   \n",
       "\n",
       "   Source of costs_Elemental cost breakdown  Source of costs_Fbc  \\\n",
       "0                                         0                    0   \n",
       "1                                         0                    0   \n",
       "2                                         0                    0   \n",
       "3                                         0                    0   \n",
       "4                                         0                    0   \n",
       "\n",
       "   Source of costs_Obc  Source of costs_Other  \\\n",
       "0                    0                      0   \n",
       "1                    0                      0   \n",
       "2                    0                      0   \n",
       "3                    0                      0   \n",
       "4                    0                      0   \n",
       "\n",
       "   Source of costs_Trust cost plan  \\\n",
       "0                                1   \n",
       "1                                1   \n",
       "2                                1   \n",
       "3                                1   \n",
       "4                                1   \n",
       "\n",
       "   Source of costs_Works cost analysis template   \\\n",
       "0                                              0   \n",
       "1                                              0   \n",
       "2                                              0   \n",
       "3                                              0   \n",
       "4                                              0   \n",
       "\n",
       "   Source of costs_Works cost analysis template - only tender cost provided  \n",
       "0                                                  0                         \n",
       "1                                                  0                         \n",
       "2                                                  0                         \n",
       "3                                                  0                         \n",
       "4                                                  0                         \n",
       "\n",
       "[5 rows x 41 columns]"
      ]
     },
     "execution_count": 119,
     "metadata": {},
     "output_type": "execute_result"
    }
   ],
   "source": [
    "dfn.head()"
   ]
  },
  {
   "cell_type": "code",
   "execution_count": 120,
   "id": "0f4360a3",
   "metadata": {},
   "outputs": [
    {
     "name": "stdout",
     "output_type": "stream",
     "text": [
      "MAE: -1.310 (2.163)\n"
     ]
    }
   ],
   "source": [
    "# rfe works by fitting the ml model, ranking features by importance, discarding the least important fetaure, re-fitting the model\n",
    "# and then recursively doing this until the selected number of features is left\n",
    "\n",
    "# implementing rfe using a linear model selecting top 10 features\n",
    "\n",
    "# create pipeline\n",
    "rfe = RFE(estimator=linear_model.LinearRegression(fit_intercept=False), n_features_to_select=10)\n",
    "model = linear_model.LinearRegression(fit_intercept=False)\n",
    "pipeline = Pipeline(steps=[('s',rfe),('m',model)])\n",
    "\n",
    "# evaluate model using cross validation\n",
    "# cv splits the data into 10 groups, then takes out one group to be the test data and evaluates it \n",
    "# this is repeated so each group is evaluated as the test data, and then the results of all are averaged\n",
    "cv = RepeatedKFold(n_splits=10, n_repeats=3, random_state=1)\n",
    "n_scores = cross_val_score(pipeline, X, y, scoring='neg_mean_absolute_error', cv=cv, n_jobs=-1, error_score='raise')\n",
    "\n",
    "# report performance\n",
    "print('MAE: %.3f (%.3f)' % (np.mean(n_scores), np.std(n_scores)))"
   ]
  },
  {
   "cell_type": "code",
   "execution_count": 121,
   "id": "8cbeb48c",
   "metadata": {},
   "outputs": [
    {
     "name": "stdout",
     "output_type": "stream",
     "text": [
      ">LR -0.712 (0.430)\n",
      ">BRR -0.363 (0.094)\n",
      ">CART -0.457 (0.113)\n",
      ">RF -0.375 (0.108)\n",
      ">GBM -0.366 (0.106)\n",
      ">SVM -0.470 (0.146)\n"
     ]
    }
   ],
   "source": [
    "# we can now compare different algoritms to find one with the lowest MAE\n",
    "# they have to be regression algorithms \n",
    "# the algorithm in the rfe also has to be 'A supervised learning estimator with a fit method that provides information about \n",
    "#                                          feature importance (e.g. coef_, feature_importances_).'\n",
    "# https://scikit-learn.org/stable/supervised_learning.html this page lists all supervised learning algorithms in sklearn\n",
    "# There may be more that could be tested\n",
    "\n",
    "# get a list of models to evaluate\n",
    "# we don't yet know the optimum number of features, so I have chosen 15 arbitrarily -this is about 35% of the features\n",
    "# you don't want to include too many features as some can negatively affect the model's accuracy\n",
    "def get_models():\n",
    "\tmodels = dict()\n",
    "\t# linear regresssion\n",
    "\trfe = RFE(estimator=linear_model.LinearRegression(fit_intercept=False), n_features_to_select=25)\n",
    "\tmodel = linear_model.LinearRegression(fit_intercept=False)\n",
    "\tmodels['LR'] = Pipeline(steps=[('s',rfe),('m',model)])\n",
    "\t #bayesian ridge regression\n",
    "\trfe = RFE(estimator=linear_model.BayesianRidge(), n_features_to_select=10)\n",
    "\tmodel = linear_model.BayesianRidge()\n",
    "\tmodels['BRR'] = Pipeline(steps=[('s',rfe),('m',model)])\n",
    "\t# cart\n",
    "\trfe = RFE(estimator=DecisionTreeRegressor(), n_features_to_select=10)\n",
    "\tmodel = DecisionTreeRegressor()\n",
    "\tmodels['CART'] = Pipeline(steps=[('s',rfe),('m',model)])\n",
    "\t# random forest\n",
    "\trfe = RFE(estimator=RandomForestRegressor(), n_features_to_select=10)\n",
    "\tmodel = RandomForestRegressor()\n",
    "\tmodels['RF'] = Pipeline(steps=[('s',rfe),('m',model)])\n",
    "\t# gradient boosting machine\n",
    "\trfe = RFE(estimator=GradientBoostingRegressor(), n_features_to_select=10)\n",
    "\tmodel = GradientBoostingRegressor()\n",
    "\tmodels['GBM'] = Pipeline(steps=[('s',rfe),('m',model)])\n",
    "\t# support vector machine\n",
    "\trfe = RFE(estimator=LinearSVR(random_state=0, tol=1e-5), n_features_to_select=10)\n",
    "\tmodel = LinearSVR(random_state=0, tol=1e-5)\n",
    "\tmodels['SVM'] = Pipeline(steps=[('s',rfe),('m',model)])\n",
    "\treturn models\n",
    "\n",
    " \n",
    "# evaluate each model using cross-validation\n",
    "def evaluate_model(model, X, y):\n",
    "\tcv = RepeatedKFold(n_splits=10, n_repeats=3, random_state=1)\n",
    "\tscores = cross_val_score(model, X, y, scoring='neg_mean_absolute_error', cv=cv, n_jobs=-1, error_score='raise')\n",
    "\treturn scores\n",
    " \n",
    "    \n",
    "# get the models to evaluate\n",
    "models = get_models()\n",
    "# evaluate the models and store results\n",
    "results, names = list(), list()\n",
    "for name, model in models.items():\n",
    "\tscores = evaluate_model(model, X, y)\n",
    "\tresults.append(scores)\n",
    "\tnames.append(name)\n",
    "\tprint('>%s %.3f (%.3f)' % (name, np.mean(scores), np.std(scores)))\n"
   ]
  },
  {
   "cell_type": "code",
   "execution_count": 122,
   "id": "a09a0936",
   "metadata": {},
   "outputs": [
    {
     "data": {
      "image/png": "[encoded data removed]",
      "text/plain": [
       "<Figure size 432x288 with 1 Axes>"
      ]
     },
     "metadata": {
      "needs_background": "light"
     },
     "output_type": "display_data"
    }
   ],
   "source": [
    "# plot model performance for comparison\n",
    "#orange line is median, green triangle is mean, box shows variation of scores\n",
    "plt.boxplot(results, labels=names, showmeans=True)\n",
    "plt.show()"
   ]
  },
  {
   "cell_type": "markdown",
   "id": "037502f7",
   "metadata": {},
   "source": [
    "## BRR"
   ]
  },
  {
   "cell_type": "code",
   "execution_count": 123,
   "id": "7c9fe183",
   "metadata": {},
   "outputs": [
    {
     "name": "stdout",
     "output_type": "stream",
     "text": [
      "x_train shape is (44, 40) \n",
      "x_test shape is (15, 40)\n",
      "y_train shape is (44,) \n",
      "y_test shape is (15,)\n",
      "y_train means are 17.899 \n",
      "y_test mean is 18.574\n"
     ]
    }
   ],
   "source": [
    "#splitting data into x and y\n",
    "X = dfn.drop('Outturn Cost', axis=1)\n",
    "y= dfn['Outturn Cost']\n",
    "# split our data into training data and testing data for ML \n",
    "x_train, x_test, y_train, y_test = train_test_split(X, y, random_state=0)\n",
    "\n",
    "# print the info about the split data\n",
    "print('x_train shape is',x_train.shape,'\\nx_test shape is',x_test.shape)\n",
    "print('y_train shape is',y_train.shape,'\\ny_test shape is',y_test.shape)\n",
    "print('y_train means are',round(np.mean(y_train), 3),'\\ny_test mean is',round(np.mean(y_test), 3))\n",
    "\n",
    "#scaling the data \n",
    "#without scaling the model will be biased towards features with higher values ranges\n",
    "scaler_x = preprocessing.RobustScaler(quantile_range=(25.0, 75.0)).fit(x_train)\n",
    "scaler_y = preprocessing.RobustScaler(quantile_range=(25.0, 75.0)).fit(np.array(y_train).reshape(-1, 1)) \n",
    "x_train_s = scaler_x.transform(x_train)\n",
    "y_train_s = scaler_y.transform(np.array(y_train).reshape(-1, 1))\n",
    "x_test_s = scaler_x.transform(x_test)\n",
    "y_test_s = scaler_y.transform(np.array(y_test).reshape(-1, 1))\n"
   ]
  },
  {
   "cell_type": "code",
   "execution_count": 124,
   "id": "ae53a152",
   "metadata": {},
   "outputs": [
    {
     "name": "stdout",
     "output_type": "stream",
     "text": [
      "BayesianRidge()\n"
     ]
    },
    {
     "name": "stderr",
     "output_type": "stream",
     "text": [
      "C:\\Users\\Shen_Y\\Anaconda3\\lib\\site-packages\\sklearn\\utils\\validation.py:1143: DataConversionWarning: A column-vector y was passed when a 1d array was expected. Please change the shape of y to (n_samples, ), for example using ravel().\n"
     ]
    },
    {
     "data": {
      "text/html": [
       "<style>#sk-container-id-9 {color: black;background-color: white;}#sk-container-id-9 pre{padding: 0;}#sk-container-id-9 div.sk-toggleable {background-color: white;}#sk-container-id-9 label.sk-toggleable__label {cursor: pointer;display: block;width: 100%;margin-bottom: 0;padding: 0.3em;box-sizing: border-box;text-align: center;}#sk-container-id-9 label.sk-toggleable__label-arrow:before {content: \"▸\";float: left;margin-right: 0.25em;color: #696969;}#sk-container-id-9 label.sk-toggleable__label-arrow:hover:before {color: black;}#sk-container-id-9 div.sk-estimator:hover label.sk-toggleable__label-arrow:before {color: black;}#sk-container-id-9 div.sk-toggleable__content {max-height: 0;max-width: 0;overflow: hidden;text-align: left;background-color: #f0f8ff;}#sk-container-id-9 div.sk-toggleable__content pre {margin: 0.2em;color: black;border-radius: 0.25em;background-color: #f0f8ff;}#sk-container-id-9 input.sk-toggleable__control:checked~div.sk-toggleable__content {max-height: 200px;max-width: 100%;overflow: auto;}#sk-container-id-9 input.sk-toggleable__control:checked~label.sk-toggleable__label-arrow:before {content: \"▾\";}#sk-container-id-9 div.sk-estimator input.sk-toggleable__control:checked~label.sk-toggleable__label {background-color: #d4ebff;}#sk-container-id-9 div.sk-label input.sk-toggleable__control:checked~label.sk-toggleable__label {background-color: #d4ebff;}#sk-container-id-9 input.sk-hidden--visually {border: 0;clip: rect(1px 1px 1px 1px);clip: rect(1px, 1px, 1px, 1px);height: 1px;margin: -1px;overflow: hidden;padding: 0;position: absolute;width: 1px;}#sk-container-id-9 div.sk-estimator {font-family: monospace;background-color: #f0f8ff;border: 1px dotted black;border-radius: 0.25em;box-sizing: border-box;margin-bottom: 0.5em;}#sk-container-id-9 div.sk-estimator:hover {background-color: #d4ebff;}#sk-container-id-9 div.sk-parallel-item::after {content: \"\";width: 100%;border-bottom: 1px solid gray;flex-grow: 1;}#sk-container-id-9 div.sk-label:hover label.sk-toggleable__label {background-color: #d4ebff;}#sk-container-id-9 div.sk-serial::before {content: \"\";position: absolute;border-left: 1px solid gray;box-sizing: border-box;top: 0;bottom: 0;left: 50%;z-index: 0;}#sk-container-id-9 div.sk-serial {display: flex;flex-direction: column;align-items: center;background-color: white;padding-right: 0.2em;padding-left: 0.2em;position: relative;}#sk-container-id-9 div.sk-item {position: relative;z-index: 1;}#sk-container-id-9 div.sk-parallel {display: flex;align-items: stretch;justify-content: center;background-color: white;position: relative;}#sk-container-id-9 div.sk-item::before, #sk-container-id-9 div.sk-parallel-item::before {content: \"\";position: absolute;border-left: 1px solid gray;box-sizing: border-box;top: 0;bottom: 0;left: 50%;z-index: -1;}#sk-container-id-9 div.sk-parallel-item {display: flex;flex-direction: column;z-index: 1;position: relative;background-color: white;}#sk-container-id-9 div.sk-parallel-item:first-child::after {align-self: flex-end;width: 50%;}#sk-container-id-9 div.sk-parallel-item:last-child::after {align-self: flex-start;width: 50%;}#sk-container-id-9 div.sk-parallel-item:only-child::after {width: 0;}#sk-container-id-9 div.sk-dashed-wrapped {border: 1px dashed gray;margin: 0 0.4em 0.5em 0.4em;box-sizing: border-box;padding-bottom: 0.4em;background-color: white;}#sk-container-id-9 div.sk-label label {font-family: monospace;font-weight: bold;display: inline-block;line-height: 1.2em;}#sk-container-id-9 div.sk-label-container {text-align: center;}#sk-container-id-9 div.sk-container {/* jupyter's `normalize.less` sets `[hidden] { display: none; }` but bootstrap.min.css set `[hidden] { display: none !important; }` so we also need the `!important` here to be able to override the default hidden behavior on the sphinx rendered scikit-learn.org. See: https://github.com/scikit-learn/scikit-learn/issues/21755 */display: inline-block !important;position: relative;}#sk-container-id-9 div.sk-text-repr-fallback {display: none;}</style><div id=\"sk-container-id-9\" class=\"sk-top-container\"><div class=\"sk-text-repr-fallback\"><pre>BayesianRidge()</pre><b>In a Jupyter environment, please rerun this cell to show the HTML representation or trust the notebook. <br />On GitHub, the HTML representation is unable to render, please try loading this page with nbviewer.org.</b></div><div class=\"sk-container\" hidden><div class=\"sk-item\"><div class=\"sk-estimator sk-toggleable\"><input class=\"sk-toggleable__control sk-hidden--visually\" id=\"sk-estimator-id-9\" type=\"checkbox\" checked><label for=\"sk-estimator-id-9\" class=\"sk-toggleable__label sk-toggleable__label-arrow\">BayesianRidge</label><div class=\"sk-toggleable__content\"><pre>BayesianRidge()</pre></div></div></div></div></div>"
      ],
      "text/plain": [
       "BayesianRidge()"
      ]
     },
     "execution_count": 124,
     "metadata": {},
     "output_type": "execute_result"
    }
   ],
   "source": [
    "# define the model with default parameters and fit it with train data.\n",
    "bay_ridge = BayesianRidge()\n",
    "print(bay_ridge)\n",
    "BayesianRidge(alpha_1=1e-06, alpha_2=1e-06, compute_score=False, copy_X=True,\n",
    "       fit_intercept=True, lambda_1=1e-06, lambda_2=1e-06, n_iter=300, tol=0.001, verbose=False) \n",
    " \n",
    "bay_ridge.fit(x_train_s, y_train_s)"
   ]
  },
  {
   "cell_type": "code",
   "execution_count": 125,
   "id": "e681bf53",
   "metadata": {},
   "outputs": [
    {
     "name": "stdout",
     "output_type": "stream",
     "text": [
      "Model score (R-squared): 0.94\n"
     ]
    }
   ],
   "source": [
    "#We can check the model score that is R-squared metrics.\n",
    "\n",
    "score=bay_ridge.score(x_train_s, y_train_s)\n",
    "print(\"Model score (R-squared): %.2f\" % score)"
   ]
  },
  {
   "cell_type": "code",
   "execution_count": 126,
   "id": "9be04236",
   "metadata": {},
   "outputs": [
    {
     "name": "stdout",
     "output_type": "stream",
     "text": [
      "MSE: 0.11\n",
      "RMSE: 0.34\n"
     ]
    }
   ],
   "source": [
    "# Next, we'll predict the test data and check the accuracy level.\n",
    "\n",
    "ypred = bay_ridge.predict(x_test_s)\n",
    "mse = mean_squared_error(y_test_s, ypred)\n",
    "print(\"MSE: %.2f\" % mse) \n",
    "print(\"RMSE: %.2f\" % sqrt(mse))"
   ]
  },
  {
   "cell_type": "code",
   "execution_count": 127,
   "id": "475d189c",
   "metadata": {},
   "outputs": [
    {
     "data": {
      "image/png": "[encoded data removed]",
      "text/plain": [
       "<Figure size 432x288 with 1 Axes>"
      ]
     },
     "metadata": {
      "needs_background": "light"
     },
     "output_type": "display_data"
    }
   ],
   "source": [
    "x_ax = range(len(y_test_s))\n",
    "plt.scatter(x_ax, y_test_s, s=5, color=\"blue\", label=\"original\")\n",
    "plt.plot(x_ax, ypred, lw=0.8, color=\"red\", label=\"predicted\")\n",
    "plt.legend()\n",
    "plt.show() "
   ]
  },
  {
   "cell_type": "code",
   "execution_count": 128,
   "id": "d5a33915",
   "metadata": {},
   "outputs": [
    {
     "name": "stdout",
     "output_type": "stream",
     "text": [
      "GIA Building Total (at start)                                               6.668861e-01\n",
      "Storeys                                                                     9.072460e-02\n",
      "Operating Theatres                                                          1.078931e-01\n",
      "Region_East of england                                                      7.459221e-02\n",
      "Region_International                                                       -1.673529e-01\n",
      "Region_London                                                               6.868206e-02\n",
      "Region_North east                                                          -4.216474e-02\n",
      "Region_North west                                                           2.840808e-02\n",
      "Region_Northern ireland                                                    -2.104676e-02\n",
      "Region_Scotland                                                            -9.259876e-02\n",
      "Region_South east                                                           9.071236e-02\n",
      "Region_South west                                                           1.482703e-01\n",
      "Region_Wales                                                                2.108675e-01\n",
      "Region_West midlands                                                       -1.074294e-02\n",
      "Region_West yorkshire                                                      -1.731647e-01\n",
      "Region_Yorkshire and the humber                                            -4.899319e-16\n",
      "Procurement Path_P21                                                        1.316614e-02\n",
      "Procurement Path_P22                                                        4.040626e-02\n",
      "Procurement Path_Pfi                                                       -1.051240e-02\n",
      "Procurement Path_Ppp                                                        1.060534e-16\n",
      "Procurement Path_Prp                                                        2.071830e-01\n",
      "Procurement Path_Trad d&b                                                   1.281029e-01\n",
      "Building Category_District (medium)                                         1.402898e-02\n",
      "Building Category_Emergency centre                                         -1.144618e-01\n",
      "Building Category_Mental health                                             2.651407e-01\n",
      "Building Category_Nuclear/radiotherapy                                     -7.222006e-02\n",
      "Building Category_Primary care / community (low)                           -1.756935e-01\n",
      "Building Category_Specialist hospital                                       1.890885e-01\n",
      "Project Status_Under construction                                           3.323712e-01\n",
      "Site for development_Greenfield                                             2.298133e-02\n",
      "Site for development_Hospital grounds                                      -3.555594e-02\n",
      "Site for development_New build hospital                                     2.988329e-02\n",
      "Source of costs_Elemental cost analysis template                            3.335072e-02\n",
      "Source of costs_Elemental cost breakdown                                    1.754391e-03\n",
      "Source of costs_Fbc                                                         9.606785e-02\n",
      "Source of costs_Obc                                                         1.848672e-01\n",
      "Source of costs_Other                                                       9.996004e-03\n",
      "Source of costs_Trust cost plan                                             3.028206e-02\n",
      "Source of costs_Works cost analysis template                               -1.157393e-01\n",
      "Source of costs_Works cost analysis template - only tender cost provided    5.958740e-02\n",
      "dtype: float64\n",
      "BRR linear modle intercept:  0.111293563841101\n"
     ]
    }
   ],
   "source": [
    "# Print coefficientsx for each features\n",
    "print(pd.Series(bay_ridge.coef_, index = X.columns))\n",
    "\n",
    "# print the interceotion\n",
    "print('BRR linear modle intercept:  {}'.format(linridge.intercept_))"
   ]
  },
  {
   "cell_type": "code",
   "execution_count": 131,
   "id": "a12495d4",
   "metadata": {},
   "outputs": [
    {
     "data": {
      "image/png": "[encoded data removed]",
      "text/plain": [
       "<Figure size 1080x360 with 2 Axes>"
      ]
     },
     "metadata": {
      "needs_background": "light"
     },
     "output_type": "display_data"
    }
   ],
   "source": [
    "## Plot predicted vs true\n",
    "fig, ax = plt.subplots(nrows=1, ncols=2,figsize=(15,5))\n",
    "ax[0].scatter(ypred, y_test_s, color=\"black\")\n",
    "abline_plot(intercept=0, slope=1, color=\"red\", ax=ax[0])\n",
    "ax[0].vlines(x=max_pred, ymin=max_pred, ymax=max_pred+max_error, color='red', linestyle='--', alpha=0.7, label=\"max error\")\n",
    "ax[0].grid(True)\n",
    "ax[0].set(xlabel=\"Predicted\", ylabel=\"True\", title=\"Predicted vs True\")\n",
    "ax[0].legend()\n",
    "    \n",
    "## Plot predicted vs residuals\n",
    "ax[1].scatter(ypred, residuals, color=\"red\")\n",
    "ax[1].vlines(x=max_pred, ymin=0, ymax=max_error, color='black', linestyle='--', alpha=0.7, label=\"max error\")\n",
    "ax[1].grid(True)\n",
    "ax[1].set(xlabel=\"Predicted\", ylabel=\"Residuals\", title=\"Predicted vs Residuals\")\n",
    "ax[1].hlines(y=0, xmin=np.min(y_pred), xmax=np.max(y_pred))\n",
    "ax[1].legend()\n",
    "plt.savefig('LRmodelPredictions.png',dpi=300)\n",
    "plt.show()"
   ]
  },
  {
   "cell_type": "code",
   "execution_count": 132,
   "id": "c14a5579",
   "metadata": {},
   "outputs": [
    {
     "data": {
      "image/png": "[encoded data removed]",
      "text/plain": [
       "<Figure size 720x360 with 1 Axes>"
      ]
     },
     "metadata": {
      "needs_background": "light"
     },
     "output_type": "display_data"
    }
   ],
   "source": [
    "#a residuals distribution plot\n",
    "fig, ax = plt.subplots(figsize=(10,5))\n",
    "sn.distplot(residuals, color=\"red\", hist=True, kde=True, kde_kws={\"shade\":True}, ax=ax)\n",
    "ax.grid(True)\n",
    "ax.set(yticks=[], yticklabels=[], title=\"Residuals distribution\")\n",
    "plt.savefig('residuals.png',dpi=300)\n",
    "plt.show()\n",
    "#this has a normal distribution which is good"
   ]
  },
  {
   "cell_type": "code",
   "execution_count": null,
   "id": "3cfed612",
   "metadata": {},
   "outputs": [],
   "source": []
  }
 ],
 "metadata": {
  "kernelspec": {
   "display_name": "Python 3 (ipykernel)",
   "language": "python",
   "name": "python3"
  },
  "language_info": {
   "codemirror_mode": {
    "name": "ipython",
    "version": 3
   },
   "file_extension": ".py",
   "mimetype": "text/x-python",
   "name": "python",
   "nbconvert_exporter": "python",
   "pygments_lexer": "ipython3",
   "version": "3.9.7"
  }
 },
 "nbformat": 4,
 "nbformat_minor": 5
}
